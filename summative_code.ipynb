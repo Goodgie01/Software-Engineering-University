{
 "cells": [
  {
   "cell_type": "markdown",
   "id": "32b90337-e51a-4ac0-af5e-a28531e0fde7",
   "metadata": {},
   "source": [
    "# Summative 1: Get Data From API and create visualisations"
   ]
  },
  {
   "cell_type": "markdown",
   "id": "f296d8bf-385d-44b1-8f6b-09c77cb1664d",
   "metadata": {},
   "source": [
    "## Imports"
   ]
  },
  {
   "cell_type": "code",
   "execution_count": 26,
   "id": "a8e16f66-321f-42ae-8ea8-012bf375f811",
   "metadata": {},
   "outputs": [
    {
     "name": "stdout",
     "output_type": "stream",
     "text": [
      "Requirement already satisfied: pandas in c:\\users\\pjg20\\appdata\\local\\programs\\python\\python312\\lib\\site-packages (2.2.3)\n",
      "Requirement already satisfied: numpy>=1.26.0 in c:\\users\\pjg20\\appdata\\local\\programs\\python\\python312\\lib\\site-packages (from pandas) (2.2.1)\n",
      "Requirement already satisfied: python-dateutil>=2.8.2 in c:\\users\\pjg20\\appdata\\local\\programs\\python\\python312\\lib\\site-packages (from pandas) (2.9.0.post0)\n",
      "Requirement already satisfied: pytz>=2020.1 in c:\\users\\pjg20\\appdata\\local\\programs\\python\\python312\\lib\\site-packages (from pandas) (2024.2)\n",
      "Requirement already satisfied: tzdata>=2022.7 in c:\\users\\pjg20\\appdata\\local\\programs\\python\\python312\\lib\\site-packages (from pandas) (2024.2)\n",
      "Requirement already satisfied: six>=1.5 in c:\\users\\pjg20\\appdata\\local\\programs\\python\\python312\\lib\\site-packages (from python-dateutil>=2.8.2->pandas) (1.17.0)\n",
      "Note: you may need to restart the kernel to use updated packages.\n"
     ]
    },
    {
     "name": "stderr",
     "output_type": "stream",
     "text": [
      "\n",
      "[notice] A new release of pip is available: 24.2 -> 24.3.1\n",
      "[notice] To update, run: python.exe -m pip install --upgrade pip\n"
     ]
    },
    {
     "name": "stdout",
     "output_type": "stream",
     "text": [
      "Collecting matplotlib\n",
      "  Downloading matplotlib-3.10.0-cp312-cp312-win_amd64.whl.metadata (11 kB)\n",
      "Collecting contourpy>=1.0.1 (from matplotlib)\n",
      "  Downloading contourpy-1.3.1-cp312-cp312-win_amd64.whl.metadata (5.4 kB)\n",
      "Collecting cycler>=0.10 (from matplotlib)\n",
      "  Downloading cycler-0.12.1-py3-none-any.whl.metadata (3.8 kB)\n",
      "Collecting fonttools>=4.22.0 (from matplotlib)\n",
      "  Downloading fonttools-4.55.3-cp312-cp312-win_amd64.whl.metadata (168 kB)\n",
      "Collecting kiwisolver>=1.3.1 (from matplotlib)\n",
      "  Downloading kiwisolver-1.4.8-cp312-cp312-win_amd64.whl.metadata (6.3 kB)\n",
      "Requirement already satisfied: numpy>=1.23 in c:\\users\\pjg20\\appdata\\local\\programs\\python\\python312\\lib\\site-packages (from matplotlib) (2.2.1)\n",
      "Requirement already satisfied: packaging>=20.0 in c:\\users\\pjg20\\appdata\\local\\programs\\python\\python312\\lib\\site-packages (from matplotlib) (24.2)\n",
      "Collecting pillow>=8 (from matplotlib)\n",
      "  Downloading pillow-11.1.0-cp312-cp312-win_amd64.whl.metadata (9.3 kB)\n",
      "Collecting pyparsing>=2.3.1 (from matplotlib)\n",
      "  Downloading pyparsing-3.2.1-py3-none-any.whl.metadata (5.0 kB)\n",
      "Requirement already satisfied: python-dateutil>=2.7 in c:\\users\\pjg20\\appdata\\local\\programs\\python\\python312\\lib\\site-packages (from matplotlib) (2.9.0.post0)\n",
      "Requirement already satisfied: six>=1.5 in c:\\users\\pjg20\\appdata\\local\\programs\\python\\python312\\lib\\site-packages (from python-dateutil>=2.7->matplotlib) (1.17.0)\n",
      "Downloading matplotlib-3.10.0-cp312-cp312-win_amd64.whl (8.0 MB)\n",
      "   ---------------------------------------- 0.0/8.0 MB ? eta -:--:--\n",
      "   -- ------------------------------------- 0.5/8.0 MB 3.4 MB/s eta 0:00:03\n",
      "   ----- ---------------------------------- 1.0/8.0 MB 3.1 MB/s eta 0:00:03\n",
      "   --------- ------------------------------ 1.8/8.0 MB 3.4 MB/s eta 0:00:02\n",
      "   ------------- -------------------------- 2.6/8.0 MB 3.4 MB/s eta 0:00:02\n",
      "   ---------------- ----------------------- 3.4/8.0 MB 3.4 MB/s eta 0:00:02\n",
      "   -------------------- ------------------- 4.2/8.0 MB 3.4 MB/s eta 0:00:02\n",
      "   ----------------------- ---------------- 4.7/8.0 MB 3.4 MB/s eta 0:00:01\n",
      "   --------------------------- ------------ 5.5/8.0 MB 3.5 MB/s eta 0:00:01\n",
      "   ------------------------------- -------- 6.3/8.0 MB 3.5 MB/s eta 0:00:01\n",
      "   ----------------------------------- ---- 7.1/8.0 MB 3.5 MB/s eta 0:00:01\n",
      "   ---------------------------------------  7.9/8.0 MB 3.5 MB/s eta 0:00:01\n",
      "   ---------------------------------------- 8.0/8.0 MB 3.5 MB/s eta 0:00:00\n",
      "Downloading contourpy-1.3.1-cp312-cp312-win_amd64.whl (220 kB)\n",
      "Downloading cycler-0.12.1-py3-none-any.whl (8.3 kB)\n",
      "Downloading fonttools-4.55.3-cp312-cp312-win_amd64.whl (2.2 MB)\n",
      "   ---------------------------------------- 0.0/2.2 MB ? eta -:--:--\n",
      "   --------- ------------------------------ 0.5/2.2 MB 3.4 MB/s eta 0:00:01\n",
      "   ----------------------- ---------------- 1.3/2.2 MB 3.5 MB/s eta 0:00:01\n",
      "   ------------------------------------- -- 2.1/2.2 MB 3.6 MB/s eta 0:00:01\n",
      "   ---------------------------------------- 2.2/2.2 MB 3.5 MB/s eta 0:00:00\n",
      "Downloading kiwisolver-1.4.8-cp312-cp312-win_amd64.whl (71 kB)\n",
      "Downloading pillow-11.1.0-cp312-cp312-win_amd64.whl (2.6 MB)\n",
      "   ---------------------------------------- 0.0/2.6 MB ? eta -:--:--\n",
      "   ------- -------------------------------- 0.5/2.6 MB 3.4 MB/s eta 0:00:01\n",
      "   ------------------- -------------------- 1.3/2.6 MB 3.5 MB/s eta 0:00:01\n",
      "   ------------------------------- -------- 2.1/2.6 MB 3.5 MB/s eta 0:00:01\n",
      "   ---------------------------------------- 2.6/2.6 MB 3.4 MB/s eta 0:00:00\n",
      "Downloading pyparsing-3.2.1-py3-none-any.whl (107 kB)\n",
      "Installing collected packages: pyparsing, pillow, kiwisolver, fonttools, cycler, contourpy, matplotlib\n",
      "Successfully installed contourpy-1.3.1 cycler-0.12.1 fonttools-4.55.3 kiwisolver-1.4.8 matplotlib-3.10.0 pillow-11.1.0 pyparsing-3.2.1\n",
      "Note: you may need to restart the kernel to use updated packages.\n"
     ]
    },
    {
     "name": "stderr",
     "output_type": "stream",
     "text": [
      "\n",
      "[notice] A new release of pip is available: 24.2 -> 24.3.1\n",
      "[notice] To update, run: python.exe -m pip install --upgrade pip\n"
     ]
    },
    {
     "name": "stdout",
     "output_type": "stream",
     "text": [
      "Collecting seaborn\n",
      "  Downloading seaborn-0.13.2-py3-none-any.whl.metadata (5.4 kB)\n",
      "Requirement already satisfied: numpy!=1.24.0,>=1.20 in c:\\users\\pjg20\\appdata\\local\\programs\\python\\python312\\lib\\site-packages (from seaborn) (2.2.1)\n",
      "Requirement already satisfied: pandas>=1.2 in c:\\users\\pjg20\\appdata\\local\\programs\\python\\python312\\lib\\site-packages (from seaborn) (2.2.3)\n",
      "Requirement already satisfied: matplotlib!=3.6.1,>=3.4 in c:\\users\\pjg20\\appdata\\local\\programs\\python\\python312\\lib\\site-packages (from seaborn) (3.10.0)\n",
      "Requirement already satisfied: contourpy>=1.0.1 in c:\\users\\pjg20\\appdata\\local\\programs\\python\\python312\\lib\\site-packages (from matplotlib!=3.6.1,>=3.4->seaborn) (1.3.1)\n",
      "Requirement already satisfied: cycler>=0.10 in c:\\users\\pjg20\\appdata\\local\\programs\\python\\python312\\lib\\site-packages (from matplotlib!=3.6.1,>=3.4->seaborn) (0.12.1)\n",
      "Requirement already satisfied: fonttools>=4.22.0 in c:\\users\\pjg20\\appdata\\local\\programs\\python\\python312\\lib\\site-packages (from matplotlib!=3.6.1,>=3.4->seaborn) (4.55.3)\n",
      "Requirement already satisfied: kiwisolver>=1.3.1 in c:\\users\\pjg20\\appdata\\local\\programs\\python\\python312\\lib\\site-packages (from matplotlib!=3.6.1,>=3.4->seaborn) (1.4.8)\n",
      "Requirement already satisfied: packaging>=20.0 in c:\\users\\pjg20\\appdata\\local\\programs\\python\\python312\\lib\\site-packages (from matplotlib!=3.6.1,>=3.4->seaborn) (24.2)\n",
      "Requirement already satisfied: pillow>=8 in c:\\users\\pjg20\\appdata\\local\\programs\\python\\python312\\lib\\site-packages (from matplotlib!=3.6.1,>=3.4->seaborn) (11.1.0)\n",
      "Requirement already satisfied: pyparsing>=2.3.1 in c:\\users\\pjg20\\appdata\\local\\programs\\python\\python312\\lib\\site-packages (from matplotlib!=3.6.1,>=3.4->seaborn) (3.2.1)\n",
      "Requirement already satisfied: python-dateutil>=2.7 in c:\\users\\pjg20\\appdata\\local\\programs\\python\\python312\\lib\\site-packages (from matplotlib!=3.6.1,>=3.4->seaborn) (2.9.0.post0)\n",
      "Requirement already satisfied: pytz>=2020.1 in c:\\users\\pjg20\\appdata\\local\\programs\\python\\python312\\lib\\site-packages (from pandas>=1.2->seaborn) (2024.2)\n",
      "Requirement already satisfied: tzdata>=2022.7 in c:\\users\\pjg20\\appdata\\local\\programs\\python\\python312\\lib\\site-packages (from pandas>=1.2->seaborn) (2024.2)\n",
      "Requirement already satisfied: six>=1.5 in c:\\users\\pjg20\\appdata\\local\\programs\\python\\python312\\lib\\site-packages (from python-dateutil>=2.7->matplotlib!=3.6.1,>=3.4->seaborn) (1.17.0)\n",
      "Downloading seaborn-0.13.2-py3-none-any.whl (294 kB)\n",
      "Installing collected packages: seaborn\n",
      "Successfully installed seaborn-0.13.2\n",
      "Note: you may need to restart the kernel to use updated packages.\n"
     ]
    },
    {
     "name": "stderr",
     "output_type": "stream",
     "text": [
      "\n",
      "[notice] A new release of pip is available: 24.2 -> 24.3.1\n",
      "[notice] To update, run: python.exe -m pip install --upgrade pip\n"
     ]
    }
   ],
   "source": [
    "%pip install pandas\n",
    "%pip install matplotlib\n",
    "%pip install seaborn"
   ]
  },
  {
   "cell_type": "code",
   "execution_count": 27,
   "id": "42d1f4e9-21d8-4df9-a3ab-9e4ce5364e1a",
   "metadata": {},
   "outputs": [],
   "source": [
    "import requests\n",
    "import json\n",
    "import pandas as pd\n",
    "import numpy as np\n",
    "import matplotlib.pyplot\n",
    "import seaborn as sns"
   ]
  },
  {
   "cell_type": "code",
   "execution_count": 36,
   "id": "07dd0b5c-ca60-42d1-838b-5f8299860f53",
   "metadata": {},
   "outputs": [
    {
     "name": "stdout",
     "output_type": "stream",
     "text": [
      "200\n"
     ]
    }
   ],
   "source": [
    "#The below code takes the link from the api and gets the file from the link to be able to turn it into data\n",
    "api_link = 'https://api.covidtracking.com/v1/us/daily.json'\n",
    "api_status = requests.get(api_link)\n",
    "print(api_status.status_code)"
   ]
  },
  {
   "cell_type": "markdown",
   "id": "533f44aa-32ee-4a49-983f-187086aab904",
   "metadata": {},
   "source": [
    "As the above status code is 200 the connection was a success - if the status code is 403, the connection isn't approved and will have to try a different API"
   ]
  },
  {
   "cell_type": "code",
   "execution_count": 37,
   "id": "5d0e5081-2395-4fdf-b2ee-9260f964c3d7",
   "metadata": {},
   "outputs": [],
   "source": [
    "#The below code will take the JSON file, and take the data from this to be able to use in a pandas dataframe\n",
    "data = api_status.text"
   ]
  },
  {
   "cell_type": "code",
   "execution_count": 38,
   "id": "efebdbd7-426d-4a4c-8970-83fd3535c3b6",
   "metadata": {},
   "outputs": [
    {
     "name": "stderr",
     "output_type": "stream",
     "text": [
      "C:\\Users\\pjg20\\AppData\\Local\\Temp\\ipykernel_24868\\791710275.py:1: FutureWarning: Passing literal json to 'read_json' is deprecated and will be removed in a future version. To read from a literal string, wrap it in a 'StringIO' object.\n",
      "  df=pd.read_json(data)\n"
     ]
    },
    {
     "data": {
      "text/html": [
       "<div>\n",
       "<style scoped>\n",
       "    .dataframe tbody tr th:only-of-type {\n",
       "        vertical-align: middle;\n",
       "    }\n",
       "\n",
       "    .dataframe tbody tr th {\n",
       "        vertical-align: top;\n",
       "    }\n",
       "\n",
       "    .dataframe thead th {\n",
       "        text-align: right;\n",
       "    }\n",
       "</style>\n",
       "<table border=\"1\" class=\"dataframe\">\n",
       "  <thead>\n",
       "    <tr style=\"text-align: right;\">\n",
       "      <th></th>\n",
       "      <th>date</th>\n",
       "      <th>states</th>\n",
       "      <th>positive</th>\n",
       "      <th>negative</th>\n",
       "      <th>pending</th>\n",
       "      <th>hospitalizedCurrently</th>\n",
       "      <th>hospitalizedCumulative</th>\n",
       "      <th>inIcuCurrently</th>\n",
       "      <th>inIcuCumulative</th>\n",
       "      <th>onVentilatorCurrently</th>\n",
       "      <th>...</th>\n",
       "      <th>lastModified</th>\n",
       "      <th>recovered</th>\n",
       "      <th>total</th>\n",
       "      <th>posNeg</th>\n",
       "      <th>deathIncrease</th>\n",
       "      <th>hospitalizedIncrease</th>\n",
       "      <th>negativeIncrease</th>\n",
       "      <th>positiveIncrease</th>\n",
       "      <th>totalTestResultsIncrease</th>\n",
       "      <th>hash</th>\n",
       "    </tr>\n",
       "  </thead>\n",
       "  <tbody>\n",
       "    <tr>\n",
       "      <th>0</th>\n",
       "      <td>20210307</td>\n",
       "      <td>56</td>\n",
       "      <td>28756489.0</td>\n",
       "      <td>74582825.0</td>\n",
       "      <td>11808.0</td>\n",
       "      <td>40199.0</td>\n",
       "      <td>776361.0</td>\n",
       "      <td>8134.0</td>\n",
       "      <td>45475.0</td>\n",
       "      <td>2802.0</td>\n",
       "      <td>...</td>\n",
       "      <td>2021-03-07T24:00:00Z</td>\n",
       "      <td>NaN</td>\n",
       "      <td>0</td>\n",
       "      <td>0</td>\n",
       "      <td>842</td>\n",
       "      <td>726</td>\n",
       "      <td>131835</td>\n",
       "      <td>41835</td>\n",
       "      <td>1170059</td>\n",
       "      <td>a80d0063822e251249fd9a44730c49cb23defd83</td>\n",
       "    </tr>\n",
       "    <tr>\n",
       "      <th>1</th>\n",
       "      <td>20210306</td>\n",
       "      <td>56</td>\n",
       "      <td>28714654.0</td>\n",
       "      <td>74450990.0</td>\n",
       "      <td>11783.0</td>\n",
       "      <td>41401.0</td>\n",
       "      <td>775635.0</td>\n",
       "      <td>8409.0</td>\n",
       "      <td>45453.0</td>\n",
       "      <td>2811.0</td>\n",
       "      <td>...</td>\n",
       "      <td>2021-03-06T24:00:00Z</td>\n",
       "      <td>NaN</td>\n",
       "      <td>0</td>\n",
       "      <td>0</td>\n",
       "      <td>1680</td>\n",
       "      <td>503</td>\n",
       "      <td>143835</td>\n",
       "      <td>60015</td>\n",
       "      <td>1430992</td>\n",
       "      <td>dae5e558c24adb86686bbd58c08cce5f610b8bb0</td>\n",
       "    </tr>\n",
       "    <tr>\n",
       "      <th>2</th>\n",
       "      <td>20210305</td>\n",
       "      <td>56</td>\n",
       "      <td>28654639.0</td>\n",
       "      <td>74307155.0</td>\n",
       "      <td>12213.0</td>\n",
       "      <td>42541.0</td>\n",
       "      <td>775132.0</td>\n",
       "      <td>8634.0</td>\n",
       "      <td>45373.0</td>\n",
       "      <td>2889.0</td>\n",
       "      <td>...</td>\n",
       "      <td>2021-03-05T24:00:00Z</td>\n",
       "      <td>NaN</td>\n",
       "      <td>0</td>\n",
       "      <td>0</td>\n",
       "      <td>2221</td>\n",
       "      <td>2781</td>\n",
       "      <td>271917</td>\n",
       "      <td>68787</td>\n",
       "      <td>1744417</td>\n",
       "      <td>724844c01659d0103801c57c0f72bf8cc8ab025c</td>\n",
       "    </tr>\n",
       "    <tr>\n",
       "      <th>3</th>\n",
       "      <td>20210304</td>\n",
       "      <td>56</td>\n",
       "      <td>28585852.0</td>\n",
       "      <td>74035238.0</td>\n",
       "      <td>12405.0</td>\n",
       "      <td>44172.0</td>\n",
       "      <td>772351.0</td>\n",
       "      <td>8970.0</td>\n",
       "      <td>45293.0</td>\n",
       "      <td>2973.0</td>\n",
       "      <td>...</td>\n",
       "      <td>2021-03-04T24:00:00Z</td>\n",
       "      <td>NaN</td>\n",
       "      <td>0</td>\n",
       "      <td>0</td>\n",
       "      <td>1743</td>\n",
       "      <td>1530</td>\n",
       "      <td>177957</td>\n",
       "      <td>65487</td>\n",
       "      <td>1590984</td>\n",
       "      <td>5c549ad30f9abf48dc5de36d20fa707014be1ff3</td>\n",
       "    </tr>\n",
       "    <tr>\n",
       "      <th>4</th>\n",
       "      <td>20210303</td>\n",
       "      <td>56</td>\n",
       "      <td>28520365.0</td>\n",
       "      <td>73857281.0</td>\n",
       "      <td>11778.0</td>\n",
       "      <td>45462.0</td>\n",
       "      <td>770821.0</td>\n",
       "      <td>9359.0</td>\n",
       "      <td>45214.0</td>\n",
       "      <td>3094.0</td>\n",
       "      <td>...</td>\n",
       "      <td>2021-03-03T24:00:00Z</td>\n",
       "      <td>NaN</td>\n",
       "      <td>0</td>\n",
       "      <td>0</td>\n",
       "      <td>2449</td>\n",
       "      <td>2172</td>\n",
       "      <td>267001</td>\n",
       "      <td>66836</td>\n",
       "      <td>1406795</td>\n",
       "      <td>fef6c425d2b773a9221fe353f13852f3e4a4bfb0</td>\n",
       "    </tr>\n",
       "  </tbody>\n",
       "</table>\n",
       "<p>5 rows × 25 columns</p>\n",
       "</div>"
      ],
      "text/plain": [
       "       date  states    positive    negative  pending  hospitalizedCurrently  \\\n",
       "0  20210307      56  28756489.0  74582825.0  11808.0                40199.0   \n",
       "1  20210306      56  28714654.0  74450990.0  11783.0                41401.0   \n",
       "2  20210305      56  28654639.0  74307155.0  12213.0                42541.0   \n",
       "3  20210304      56  28585852.0  74035238.0  12405.0                44172.0   \n",
       "4  20210303      56  28520365.0  73857281.0  11778.0                45462.0   \n",
       "\n",
       "   hospitalizedCumulative  inIcuCurrently  inIcuCumulative  \\\n",
       "0                776361.0          8134.0          45475.0   \n",
       "1                775635.0          8409.0          45453.0   \n",
       "2                775132.0          8634.0          45373.0   \n",
       "3                772351.0          8970.0          45293.0   \n",
       "4                770821.0          9359.0          45214.0   \n",
       "\n",
       "   onVentilatorCurrently  ...          lastModified recovered  total  posNeg  \\\n",
       "0                 2802.0  ...  2021-03-07T24:00:00Z       NaN      0       0   \n",
       "1                 2811.0  ...  2021-03-06T24:00:00Z       NaN      0       0   \n",
       "2                 2889.0  ...  2021-03-05T24:00:00Z       NaN      0       0   \n",
       "3                 2973.0  ...  2021-03-04T24:00:00Z       NaN      0       0   \n",
       "4                 3094.0  ...  2021-03-03T24:00:00Z       NaN      0       0   \n",
       "\n",
       "   deathIncrease hospitalizedIncrease  negativeIncrease  positiveIncrease  \\\n",
       "0            842                  726            131835             41835   \n",
       "1           1680                  503            143835             60015   \n",
       "2           2221                 2781            271917             68787   \n",
       "3           1743                 1530            177957             65487   \n",
       "4           2449                 2172            267001             66836   \n",
       "\n",
       "   totalTestResultsIncrease                                      hash  \n",
       "0                   1170059  a80d0063822e251249fd9a44730c49cb23defd83  \n",
       "1                   1430992  dae5e558c24adb86686bbd58c08cce5f610b8bb0  \n",
       "2                   1744417  724844c01659d0103801c57c0f72bf8cc8ab025c  \n",
       "3                   1590984  5c549ad30f9abf48dc5de36d20fa707014be1ff3  \n",
       "4                   1406795  fef6c425d2b773a9221fe353f13852f3e4a4bfb0  \n",
       "\n",
       "[5 rows x 25 columns]"
      ]
     },
     "execution_count": 38,
     "metadata": {},
     "output_type": "execute_result"
    }
   ],
   "source": [
    "df=pd.read_json(data)\n",
    "df.head()"
   ]
  },
  {
   "cell_type": "code",
   "execution_count": 35,
   "id": "0bd7ec02-3521-49f6-bf94-61f78c8ec744",
   "metadata": {},
   "outputs": [
    {
     "data": {
      "text/plain": [
       "['date',\n",
       " 'states',\n",
       " 'positive',\n",
       " 'negative',\n",
       " 'pending',\n",
       " 'hospitalizedCurrently',\n",
       " 'hospitalizedCumulative',\n",
       " 'inIcuCurrently',\n",
       " 'inIcuCumulative',\n",
       " 'onVentilatorCurrently',\n",
       " 'onVentilatorCumulative',\n",
       " 'dateChecked',\n",
       " 'death',\n",
       " 'hospitalized',\n",
       " 'totalTestResults',\n",
       " 'lastModified',\n",
       " 'recovered',\n",
       " 'total',\n",
       " 'posNeg',\n",
       " 'deathIncrease',\n",
       " 'hospitalizedIncrease',\n",
       " 'negativeIncrease',\n",
       " 'positiveIncrease',\n",
       " 'totalTestResultsIncrease',\n",
       " 'hash']"
      ]
     },
     "execution_count": 35,
     "metadata": {},
     "output_type": "execute_result"
    }
   ],
   "source": [
    "columns = list(df.columns.values)\n",
    "columns"
   ]
  },
  {
   "cell_type": "markdown",
   "id": "a3bc9907-c969-4578-81b8-5e171c668a1c",
   "metadata": {},
   "source": [
    "## Data Cleaning"
   ]
  },
  {
   "cell_type": "markdown",
   "id": "0ba5df82-31d1-4230-8b92-ef5a044bc809",
   "metadata": {},
   "source": [
    "Date column will need to be changed to a datetime column, hash column needs to be removed and we will have the cleaning done on this particular API data\n",
    "\n",
    "However, for future proofing for the use of other APIs where the cleaning may not need to be done - this is a future feature that could be removed"
   ]
  },
  {
   "cell_type": "code",
   "execution_count": null,
   "id": "eecfa239-c726-4113-b4ef-17f367309bae",
   "metadata": {},
   "outputs": [],
   "source": []
  }
 ],
 "metadata": {
  "kernelspec": {
   "display_name": "Python 3 (ipykernel)",
   "language": "python",
   "name": "python3"
  },
  "language_info": {
   "codemirror_mode": {
    "name": "ipython",
    "version": 3
   },
   "file_extension": ".py",
   "mimetype": "text/x-python",
   "name": "python",
   "nbconvert_exporter": "python",
   "pygments_lexer": "ipython3",
   "version": "3.12.5"
  }
 },
 "nbformat": 4,
 "nbformat_minor": 5
}
